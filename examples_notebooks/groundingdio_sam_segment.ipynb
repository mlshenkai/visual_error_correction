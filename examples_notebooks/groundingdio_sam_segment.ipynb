{
 "cells": [
  {
   "cell_type": "code",
   "id": "initial_id",
   "metadata": {
    "collapsed": true,
    "ExecuteTime": {
     "end_time": "2024-09-18T09:49:24.730412Z",
     "start_time": "2024-09-18T09:49:24.724346Z"
    }
   },
   "source": [
    "import torch\n",
    "import os\n",
    "os.chdir(\"/code-online/code/visual_error_correction\")"
   ],
   "outputs": [],
   "execution_count": 3
  },
  {
   "metadata": {
    "ExecuteTime": {
     "end_time": "2024-09-18T09:48:50.444019Z",
     "start_time": "2024-09-18T09:48:42.339067Z"
    }
   },
   "cell_type": "code",
   "source": [
    "from PIL import Image\n",
    "from transformers import GroundingDinoImageProcessor, GroundingDinoForObjectDetection"
   ],
   "id": "6b5b7f88307294f0",
   "outputs": [
    {
     "name": "stderr",
     "output_type": "stream",
     "text": [
      "/opt/conda/envs/dev/lib/python3.11/site-packages/transformers/utils/generic.py:482: FutureWarning: `torch.utils._pytree._register_pytree_node` is deprecated. Please use `torch.utils._pytree.register_pytree_node` instead.\n",
      "  _torch_pytree._register_pytree_node(\n",
      "/opt/conda/envs/dev/lib/python3.11/site-packages/transformers/utils/generic.py:339: FutureWarning: `torch.utils._pytree._register_pytree_node` is deprecated. Please use `torch.utils._pytree.register_pytree_node` instead.\n",
      "  _torch_pytree._register_pytree_node(\n",
      "/opt/conda/envs/dev/lib/python3.11/site-packages/transformers/utils/generic.py:339: FutureWarning: `torch.utils._pytree._register_pytree_node` is deprecated. Please use `torch.utils._pytree.register_pytree_node` instead.\n",
      "  _torch_pytree._register_pytree_node(\n"
     ]
    }
   ],
   "execution_count": 2
  },
  {
   "metadata": {
    "ExecuteTime": {
     "end_time": "2024-09-18T09:57:32.328977Z",
     "start_time": "2024-09-18T09:57:32.323194Z"
    }
   },
   "cell_type": "code",
   "source": [
    "model_path = \"./checkpoints/grounding-dino\"\n",
    "device = \"cuda\""
   ],
   "id": "2df0c162230b26a6",
   "outputs": [],
   "execution_count": 4
  },
  {
   "metadata": {
    "ExecuteTime": {
     "end_time": "2024-09-18T09:58:21.642186Z",
     "start_time": "2024-09-18T09:57:59.149462Z"
    }
   },
   "cell_type": "code",
   "source": [
    "processor = GroundingDinoImageProcessor.from_pretrained(model_path)\n",
    "model = GroundingDinoForObjectDetection.from_pretrained(model_path).to()"
   ],
   "id": "e3a7ec20fd4801da",
   "outputs": [
    {
     "name": "stderr",
     "output_type": "stream",
     "text": [
      "/opt/conda/envs/dev/lib/python3.11/site-packages/torch/utils/cpp_extension.py:1965: UserWarning: TORCH_CUDA_ARCH_LIST is not set, all archs for visible cards are included for compilation. \n",
      "If this is not desired, please set os.environ['TORCH_CUDA_ARCH_LIST'].\n",
      "  warnings.warn(\n",
      "Could not load the custom kernel for multi-scale deformable attention: Error building extension 'MultiScaleDeformableAttention': [1/4] /usr/local/cuda/bin/nvcc --generate-dependencies-with-compile --dependency-output ms_deform_attn_cuda.cuda.o.d -DTORCH_EXTENSION_NAME=MultiScaleDeformableAttention -DTORCH_API_INCLUDE_EXTENSION_H -DPYBIND11_COMPILER_TYPE=\\\"_gcc\\\" -DPYBIND11_STDLIB=\\\"_libstdcpp\\\" -DPYBIND11_BUILD_ABI=\\\"_cxxabi1011\\\" -I/opt/conda/envs/dev/lib/python3.11/site-packages/transformers/kernels/deformable_detr -isystem /opt/conda/envs/dev/lib/python3.11/site-packages/torch/include -isystem /opt/conda/envs/dev/lib/python3.11/site-packages/torch/include/torch/csrc/api/include -isystem /opt/conda/envs/dev/lib/python3.11/site-packages/torch/include/TH -isystem /opt/conda/envs/dev/lib/python3.11/site-packages/torch/include/THC -isystem /usr/local/cuda/include -isystem /opt/conda/envs/dev/include/python3.11 -D_GLIBCXX_USE_CXX11_ABI=0 -D__CUDA_NO_HALF_OPERATORS__ -D__CUDA_NO_HALF_CONVERSIONS__ -D__CUDA_NO_BFLOAT16_CONVERSIONS__ -D__CUDA_NO_HALF2_OPERATORS__ --expt-relaxed-constexpr -gencode=arch=compute_86,code=compute_86 -gencode=arch=compute_86,code=sm_86 --compiler-options '-fPIC' -DCUDA_HAS_FP16=1 -D__CUDA_NO_HALF_OPERATORS__ -D__CUDA_NO_HALF_CONVERSIONS__ -D__CUDA_NO_HALF2_OPERATORS__ -std=c++17 -c /opt/conda/envs/dev/lib/python3.11/site-packages/transformers/kernels/deformable_detr/cuda/ms_deform_attn_cuda.cu -o ms_deform_attn_cuda.cuda.o \n",
      "\u001B[31mFAILED: \u001B[0mms_deform_attn_cuda.cuda.o \n",
      "/usr/local/cuda/bin/nvcc --generate-dependencies-with-compile --dependency-output ms_deform_attn_cuda.cuda.o.d -DTORCH_EXTENSION_NAME=MultiScaleDeformableAttention -DTORCH_API_INCLUDE_EXTENSION_H -DPYBIND11_COMPILER_TYPE=\\\"_gcc\\\" -DPYBIND11_STDLIB=\\\"_libstdcpp\\\" -DPYBIND11_BUILD_ABI=\\\"_cxxabi1011\\\" -I/opt/conda/envs/dev/lib/python3.11/site-packages/transformers/kernels/deformable_detr -isystem /opt/conda/envs/dev/lib/python3.11/site-packages/torch/include -isystem /opt/conda/envs/dev/lib/python3.11/site-packages/torch/include/torch/csrc/api/include -isystem /opt/conda/envs/dev/lib/python3.11/site-packages/torch/include/TH -isystem /opt/conda/envs/dev/lib/python3.11/site-packages/torch/include/THC -isystem /usr/local/cuda/include -isystem /opt/conda/envs/dev/include/python3.11 -D_GLIBCXX_USE_CXX11_ABI=0 -D__CUDA_NO_HALF_OPERATORS__ -D__CUDA_NO_HALF_CONVERSIONS__ -D__CUDA_NO_BFLOAT16_CONVERSIONS__ -D__CUDA_NO_HALF2_OPERATORS__ --expt-relaxed-constexpr -gencode=arch=compute_86,code=compute_86 -gencode=arch=compute_86,code=sm_86 --compiler-options '-fPIC' -DCUDA_HAS_FP16=1 -D__CUDA_NO_HALF_OPERATORS__ -D__CUDA_NO_HALF_CONVERSIONS__ -D__CUDA_NO_HALF2_OPERATORS__ -std=c++17 -c /opt/conda/envs/dev/lib/python3.11/site-packages/transformers/kernels/deformable_detr/cuda/ms_deform_attn_cuda.cu -o ms_deform_attn_cuda.cuda.o \n",
      "In file included from /opt/conda/envs/dev/lib/python3.11/site-packages/torch/include/c10/util/CallOnce.h:8:0,\n",
      "                 from /opt/conda/envs/dev/lib/python3.11/site-packages/torch/include/ATen/Context.h:22,\n",
      "                 from /opt/conda/envs/dev/lib/python3.11/site-packages/torch/include/ATen/ATen.h:7,\n",
      "                 from /opt/conda/envs/dev/lib/python3.11/site-packages/transformers/kernels/deformable_detr/cuda/ms_deform_im2col_cuda.cuh:16,\n",
      "                 from /opt/conda/envs/dev/lib/python3.11/site-packages/transformers/kernels/deformable_detr/cuda/ms_deform_attn_cuda.cu:12:\n",
      "/opt/conda/envs/dev/lib/python3.11/site-packages/torch/include/c10/util/C++17.h:13:2: error: #error \"You're trying to build PyTorch with a too old version of GCC. We need GCC 9 or later.\"\n",
      " #error \\\n",
      "  ^~~~~\n",
      "/opt/conda/envs/dev/lib/python3.11/site-packages/transformers/kernels/deformable_detr/cuda/ms_deform_attn_cuda.cu:19:9: warning: #pragma once in main file\n",
      " #pragma once\n",
      "         ^~~~\n",
      "[2/4] c++ -MMD -MF ms_deform_attn_cpu.o.d -DTORCH_EXTENSION_NAME=MultiScaleDeformableAttention -DTORCH_API_INCLUDE_EXTENSION_H -DPYBIND11_COMPILER_TYPE=\\\"_gcc\\\" -DPYBIND11_STDLIB=\\\"_libstdcpp\\\" -DPYBIND11_BUILD_ABI=\\\"_cxxabi1011\\\" -I/opt/conda/envs/dev/lib/python3.11/site-packages/transformers/kernels/deformable_detr -isystem /opt/conda/envs/dev/lib/python3.11/site-packages/torch/include -isystem /opt/conda/envs/dev/lib/python3.11/site-packages/torch/include/torch/csrc/api/include -isystem /opt/conda/envs/dev/lib/python3.11/site-packages/torch/include/TH -isystem /opt/conda/envs/dev/lib/python3.11/site-packages/torch/include/THC -isystem /usr/local/cuda/include -isystem /opt/conda/envs/dev/include/python3.11 -D_GLIBCXX_USE_CXX11_ABI=0 -fPIC -std=c++17 -DWITH_CUDA=1 -c /opt/conda/envs/dev/lib/python3.11/site-packages/transformers/kernels/deformable_detr/cpu/ms_deform_attn_cpu.cpp -o ms_deform_attn_cpu.o \n",
      "\u001B[31mFAILED: \u001B[0mms_deform_attn_cpu.o \n",
      "c++ -MMD -MF ms_deform_attn_cpu.o.d -DTORCH_EXTENSION_NAME=MultiScaleDeformableAttention -DTORCH_API_INCLUDE_EXTENSION_H -DPYBIND11_COMPILER_TYPE=\\\"_gcc\\\" -DPYBIND11_STDLIB=\\\"_libstdcpp\\\" -DPYBIND11_BUILD_ABI=\\\"_cxxabi1011\\\" -I/opt/conda/envs/dev/lib/python3.11/site-packages/transformers/kernels/deformable_detr -isystem /opt/conda/envs/dev/lib/python3.11/site-packages/torch/include -isystem /opt/conda/envs/dev/lib/python3.11/site-packages/torch/include/torch/csrc/api/include -isystem /opt/conda/envs/dev/lib/python3.11/site-packages/torch/include/TH -isystem /opt/conda/envs/dev/lib/python3.11/site-packages/torch/include/THC -isystem /usr/local/cuda/include -isystem /opt/conda/envs/dev/include/python3.11 -D_GLIBCXX_USE_CXX11_ABI=0 -fPIC -std=c++17 -DWITH_CUDA=1 -c /opt/conda/envs/dev/lib/python3.11/site-packages/transformers/kernels/deformable_detr/cpu/ms_deform_attn_cpu.cpp -o ms_deform_attn_cpu.o \n",
      "In file included from /opt/conda/envs/dev/lib/python3.11/site-packages/torch/include/c10/util/CallOnce.h:8:0,\n",
      "                 from /opt/conda/envs/dev/lib/python3.11/site-packages/torch/include/ATen/Context.h:22,\n",
      "                 from /opt/conda/envs/dev/lib/python3.11/site-packages/torch/include/ATen/ATen.h:7,\n",
      "                 from /opt/conda/envs/dev/lib/python3.11/site-packages/transformers/kernels/deformable_detr/cpu/ms_deform_attn_cpu.cpp:13:\n",
      "/opt/conda/envs/dev/lib/python3.11/site-packages/torch/include/c10/util/C++17.h:13:2: error: #error \"You're trying to build PyTorch with a too old version of GCC. We need GCC 9 or later.\"\n",
      " #error \\\n",
      "  ^~~~~\n",
      "[3/4] c++ -MMD -MF vision.o.d -DTORCH_EXTENSION_NAME=MultiScaleDeformableAttention -DTORCH_API_INCLUDE_EXTENSION_H -DPYBIND11_COMPILER_TYPE=\\\"_gcc\\\" -DPYBIND11_STDLIB=\\\"_libstdcpp\\\" -DPYBIND11_BUILD_ABI=\\\"_cxxabi1011\\\" -I/opt/conda/envs/dev/lib/python3.11/site-packages/transformers/kernels/deformable_detr -isystem /opt/conda/envs/dev/lib/python3.11/site-packages/torch/include -isystem /opt/conda/envs/dev/lib/python3.11/site-packages/torch/include/torch/csrc/api/include -isystem /opt/conda/envs/dev/lib/python3.11/site-packages/torch/include/TH -isystem /opt/conda/envs/dev/lib/python3.11/site-packages/torch/include/THC -isystem /usr/local/cuda/include -isystem /opt/conda/envs/dev/include/python3.11 -D_GLIBCXX_USE_CXX11_ABI=0 -fPIC -std=c++17 -DWITH_CUDA=1 -c /opt/conda/envs/dev/lib/python3.11/site-packages/transformers/kernels/deformable_detr/vision.cpp -o vision.o \n",
      "\u001B[31mFAILED: \u001B[0mvision.o \n",
      "c++ -MMD -MF vision.o.d -DTORCH_EXTENSION_NAME=MultiScaleDeformableAttention -DTORCH_API_INCLUDE_EXTENSION_H -DPYBIND11_COMPILER_TYPE=\\\"_gcc\\\" -DPYBIND11_STDLIB=\\\"_libstdcpp\\\" -DPYBIND11_BUILD_ABI=\\\"_cxxabi1011\\\" -I/opt/conda/envs/dev/lib/python3.11/site-packages/transformers/kernels/deformable_detr -isystem /opt/conda/envs/dev/lib/python3.11/site-packages/torch/include -isystem /opt/conda/envs/dev/lib/python3.11/site-packages/torch/include/torch/csrc/api/include -isystem /opt/conda/envs/dev/lib/python3.11/site-packages/torch/include/TH -isystem /opt/conda/envs/dev/lib/python3.11/site-packages/torch/include/THC -isystem /usr/local/cuda/include -isystem /opt/conda/envs/dev/include/python3.11 -D_GLIBCXX_USE_CXX11_ABI=0 -fPIC -std=c++17 -DWITH_CUDA=1 -c /opt/conda/envs/dev/lib/python3.11/site-packages/transformers/kernels/deformable_detr/vision.cpp -o vision.o \n",
      "In file included from /opt/conda/envs/dev/lib/python3.11/site-packages/torch/include/ATen/core/TensorBase.h:14:0,\n",
      "                 from /opt/conda/envs/dev/lib/python3.11/site-packages/torch/include/ATen/core/TensorBody.h:38,\n",
      "                 from /opt/conda/envs/dev/lib/python3.11/site-packages/torch/include/ATen/core/Tensor.h:3,\n",
      "                 from /opt/conda/envs/dev/lib/python3.11/site-packages/torch/include/ATen/Tensor.h:3,\n",
      "                 from /opt/conda/envs/dev/lib/python3.11/site-packages/torch/include/torch/csrc/autograd/function_hook.h:3,\n",
      "                 from /opt/conda/envs/dev/lib/python3.11/site-packages/torch/include/torch/csrc/autograd/cpp_hook.h:2,\n",
      "                 from /opt/conda/envs/dev/lib/python3.11/site-packages/torch/include/torch/csrc/autograd/variable.h:6,\n",
      "                 from /opt/conda/envs/dev/lib/python3.11/site-packages/torch/include/torch/csrc/autograd/autograd.h:3,\n",
      "                 from /opt/conda/envs/dev/lib/python3.11/site-packages/torch/include/torch/csrc/api/include/torch/autograd.h:3,\n",
      "                 from /opt/conda/envs/dev/lib/python3.11/site-packages/torch/include/torch/csrc/api/include/torch/all.h:7,\n",
      "                 from /opt/conda/envs/dev/lib/python3.11/site-packages/torch/include/torch/extension.h:5,\n",
      "                 from /opt/conda/envs/dev/lib/python3.11/site-packages/transformers/kernels/deformable_detr/cpu/ms_deform_attn_cpu.h:12,\n",
      "                 from /opt/conda/envs/dev/lib/python3.11/site-packages/transformers/kernels/deformable_detr/ms_deform_attn.h:13,\n",
      "                 from /opt/conda/envs/dev/lib/python3.11/site-packages/transformers/kernels/deformable_detr/vision.cpp:11:\n",
      "/opt/conda/envs/dev/lib/python3.11/site-packages/torch/include/c10/util/C++17.h:13:2: error: #error \"You're trying to build PyTorch with a too old version of GCC. We need GCC 9 or later.\"\n",
      " #error \\\n",
      "  ^~~~~\n",
      "In file included from /opt/conda/envs/dev/lib/python3.11/site-packages/transformers/kernels/deformable_detr/vision.cpp:11:0:\n",
      "/opt/conda/envs/dev/lib/python3.11/site-packages/transformers/kernels/deformable_detr/ms_deform_attn.h: In function ‘at::Tensor ms_deform_attn_forward(const at::Tensor&, const at::Tensor&, const at::Tensor&, const at::Tensor&, const at::Tensor&, int)’:\n",
      "/opt/conda/envs/dev/lib/python3.11/site-packages/transformers/kernels/deformable_detr/ms_deform_attn.h:29:20: warning: ‘at::DeprecatedTypeProperties& at::Tensor::type() const’ is deprecated: Tensor.type() is deprecated. Instead use Tensor.options(), which in many cases (e.g. in a constructor) is a drop-in replacement. If you were using data from type(), that is now available from Tensor itself, so instead of tensor.type().scalar_type(), use tensor.scalar_type() instead and instead of tensor.type().backend() use tensor.device(). [-Wdeprecated-declarations]\n",
      "     if (value.type().is_cuda())\n",
      "                    ^\n",
      "In file included from /opt/conda/envs/dev/lib/python3.11/site-packages/torch/include/ATen/core/Tensor.h:3:0,\n",
      "                 from /opt/conda/envs/dev/lib/python3.11/site-packages/torch/include/ATen/Tensor.h:3,\n",
      "                 from /opt/conda/envs/dev/lib/python3.11/site-packages/torch/include/torch/csrc/autograd/function_hook.h:3,\n",
      "                 from /opt/conda/envs/dev/lib/python3.11/site-packages/torch/include/torch/csrc/autograd/cpp_hook.h:2,\n",
      "                 from /opt/conda/envs/dev/lib/python3.11/site-packages/torch/include/torch/csrc/autograd/variable.h:6,\n",
      "                 from /opt/conda/envs/dev/lib/python3.11/site-packages/torch/include/torch/csrc/autograd/autograd.h:3,\n",
      "                 from /opt/conda/envs/dev/lib/python3.11/site-packages/torch/include/torch/csrc/api/include/torch/autograd.h:3,\n",
      "                 from /opt/conda/envs/dev/lib/python3.11/site-packages/torch/include/torch/csrc/api/include/torch/all.h:7,\n",
      "                 from /opt/conda/envs/dev/lib/python3.11/site-packages/torch/include/torch/extension.h:5,\n",
      "                 from /opt/conda/envs/dev/lib/python3.11/site-packages/transformers/kernels/deformable_detr/cpu/ms_deform_attn_cpu.h:12,\n",
      "                 from /opt/conda/envs/dev/lib/python3.11/site-packages/transformers/kernels/deformable_detr/ms_deform_attn.h:13,\n",
      "                 from /opt/conda/envs/dev/lib/python3.11/site-packages/transformers/kernels/deformable_detr/vision.cpp:11:\n",
      "/opt/conda/envs/dev/lib/python3.11/site-packages/torch/include/ATen/core/TensorBody.h:225:30: note: declared here\n",
      "   DeprecatedTypeProperties & type() const {\n",
      "                              ^~~~\n",
      "In file included from /opt/conda/envs/dev/lib/python3.11/site-packages/transformers/kernels/deformable_detr/vision.cpp:11:0:\n",
      "/opt/conda/envs/dev/lib/python3.11/site-packages/transformers/kernels/deformable_detr/ms_deform_attn.h: In function ‘std::vector<at::Tensor> ms_deform_attn_backward(const at::Tensor&, const at::Tensor&, const at::Tensor&, const at::Tensor&, const at::Tensor&, const at::Tensor&, int)’:\n",
      "/opt/conda/envs/dev/lib/python3.11/site-packages/transformers/kernels/deformable_detr/ms_deform_attn.h:51:20: warning: ‘at::DeprecatedTypeProperties& at::Tensor::type() const’ is deprecated: Tensor.type() is deprecated. Instead use Tensor.options(), which in many cases (e.g. in a constructor) is a drop-in replacement. If you were using data from type(), that is now available from Tensor itself, so instead of tensor.type().scalar_type(), use tensor.scalar_type() instead and instead of tensor.type().backend() use tensor.device(). [-Wdeprecated-declarations]\n",
      "     if (value.type().is_cuda())\n",
      "                    ^\n",
      "In file included from /opt/conda/envs/dev/lib/python3.11/site-packages/torch/include/ATen/core/Tensor.h:3:0,\n",
      "                 from /opt/conda/envs/dev/lib/python3.11/site-packages/torch/include/ATen/Tensor.h:3,\n",
      "                 from /opt/conda/envs/dev/lib/python3.11/site-packages/torch/include/torch/csrc/autograd/function_hook.h:3,\n",
      "                 from /opt/conda/envs/dev/lib/python3.11/site-packages/torch/include/torch/csrc/autograd/cpp_hook.h:2,\n",
      "                 from /opt/conda/envs/dev/lib/python3.11/site-packages/torch/include/torch/csrc/autograd/variable.h:6,\n",
      "                 from /opt/conda/envs/dev/lib/python3.11/site-packages/torch/include/torch/csrc/autograd/autograd.h:3,\n",
      "                 from /opt/conda/envs/dev/lib/python3.11/site-packages/torch/include/torch/csrc/api/include/torch/autograd.h:3,\n",
      "                 from /opt/conda/envs/dev/lib/python3.11/site-packages/torch/include/torch/csrc/api/include/torch/all.h:7,\n",
      "                 from /opt/conda/envs/dev/lib/python3.11/site-packages/torch/include/torch/extension.h:5,\n",
      "                 from /opt/conda/envs/dev/lib/python3.11/site-packages/transformers/kernels/deformable_detr/cpu/ms_deform_attn_cpu.h:12,\n",
      "                 from /opt/conda/envs/dev/lib/python3.11/site-packages/transformers/kernels/deformable_detr/ms_deform_attn.h:13,\n",
      "                 from /opt/conda/envs/dev/lib/python3.11/site-packages/transformers/kernels/deformable_detr/vision.cpp:11:\n",
      "/opt/conda/envs/dev/lib/python3.11/site-packages/torch/include/ATen/core/TensorBody.h:225:30: note: declared here\n",
      "   DeprecatedTypeProperties & type() const {\n",
      "                              ^~~~\n",
      "ninja: build stopped: subcommand failed.\n",
      "\n",
      "Could not load the custom kernel for multi-scale deformable attention: /code-online/cache/torch_extensions/py311_cu121/MultiScaleDeformableAttention/MultiScaleDeformableAttention.so: cannot open shared object file: No such file or directory\n",
      "Could not load the custom kernel for multi-scale deformable attention: /code-online/cache/torch_extensions/py311_cu121/MultiScaleDeformableAttention/MultiScaleDeformableAttention.so: cannot open shared object file: No such file or directory\n",
      "Could not load the custom kernel for multi-scale deformable attention: /code-online/cache/torch_extensions/py311_cu121/MultiScaleDeformableAttention/MultiScaleDeformableAttention.so: cannot open shared object file: No such file or directory\n",
      "Could not load the custom kernel for multi-scale deformable attention: /code-online/cache/torch_extensions/py311_cu121/MultiScaleDeformableAttention/MultiScaleDeformableAttention.so: cannot open shared object file: No such file or directory\n",
      "Could not load the custom kernel for multi-scale deformable attention: /code-online/cache/torch_extensions/py311_cu121/MultiScaleDeformableAttention/MultiScaleDeformableAttention.so: cannot open shared object file: No such file or directory\n",
      "Could not load the custom kernel for multi-scale deformable attention: /code-online/cache/torch_extensions/py311_cu121/MultiScaleDeformableAttention/MultiScaleDeformableAttention.so: cannot open shared object file: No such file or directory\n",
      "Could not load the custom kernel for multi-scale deformable attention: /code-online/cache/torch_extensions/py311_cu121/MultiScaleDeformableAttention/MultiScaleDeformableAttention.so: cannot open shared object file: No such file or directory\n",
      "Could not load the custom kernel for multi-scale deformable attention: /code-online/cache/torch_extensions/py311_cu121/MultiScaleDeformableAttention/MultiScaleDeformableAttention.so: cannot open shared object file: No such file or directory\n",
      "Could not load the custom kernel for multi-scale deformable attention: /code-online/cache/torch_extensions/py311_cu121/MultiScaleDeformableAttention/MultiScaleDeformableAttention.so: cannot open shared object file: No such file or directory\n",
      "Could not load the custom kernel for multi-scale deformable attention: /code-online/cache/torch_extensions/py311_cu121/MultiScaleDeformableAttention/MultiScaleDeformableAttention.so: cannot open shared object file: No such file or directory\n",
      "Could not load the custom kernel for multi-scale deformable attention: /code-online/cache/torch_extensions/py311_cu121/MultiScaleDeformableAttention/MultiScaleDeformableAttention.so: cannot open shared object file: No such file or directory\n"
     ]
    }
   ],
   "execution_count": 5
  },
  {
   "metadata": {},
   "cell_type": "code",
   "outputs": [],
   "execution_count": null,
   "source": "",
   "id": "a5163f37bdddbbdc"
  }
 ],
 "metadata": {
  "kernelspec": {
   "display_name": "Python [conda env:dev]",
   "language": "python",
   "name": "conda-env-dev-py"
  },
  "language_info": {
   "codemirror_mode": {
    "name": "ipython",
    "version": 2
   },
   "file_extension": ".py",
   "mimetype": "text/x-python",
   "name": "python",
   "nbconvert_exporter": "python",
   "pygments_lexer": "ipython2",
   "version": "2.7.6"
  }
 },
 "nbformat": 4,
 "nbformat_minor": 5
}
